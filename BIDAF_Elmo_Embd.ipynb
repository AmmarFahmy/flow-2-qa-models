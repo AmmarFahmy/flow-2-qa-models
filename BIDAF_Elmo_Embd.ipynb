{
  "nbformat": 4,
  "nbformat_minor": 0,
  "metadata": {
    "colab": {
      "name": "BIDAF_Elmo_Embd.ipynb",
      "provenance": [],
      "collapsed_sections": [],
      "include_colab_link": true
    },
    "kernelspec": {
      "name": "python3",
      "display_name": "Python 3"
    },
    "language_info": {
      "name": "python"
    }
  },
  "cells": [
    {
      "cell_type": "markdown",
      "metadata": {
        "id": "view-in-github",
        "colab_type": "text"
      },
      "source": [
        "<a href=\"https://colab.research.google.com/github/AmmarFahmy/flow-2-qa-models/blob/master-ammar/BIDAF_Elmo_Embd.ipynb\" target=\"_parent\"><img src=\"https://colab.research.google.com/assets/colab-badge.svg\" alt=\"Open In Colab\"/></a>"
      ]
    },
    {
      "cell_type": "code",
      "metadata": {
        "id": "NjJPFIUIls3l",
        "colab": {
          "base_uri": "https://localhost:8080/"
        },
        "outputId": "09ac8a1f-6763-448d-91c9-c178eb9918a2"
      },
      "source": [
        "!pip install allennlp\n",
        "!pip install allennlp-models"
      ],
      "execution_count": null,
      "outputs": [
        {
          "output_type": "stream",
          "text": [
            "Collecting allennlp\n",
            "\u001b[?25l  Downloading https://files.pythonhosted.org/packages/ed/eb/0c7ce6af0dfbc9c168a263a534e258447eff707c76df26356d4080900dd0/allennlp-2.4.0-py3-none-any.whl (625kB)\n",
            "\r\u001b[K     |▌                               | 10kB 12.0MB/s eta 0:00:01\r\u001b[K     |█                               | 20kB 17.7MB/s eta 0:00:01\r\u001b[K     |█▋                              | 30kB 10.3MB/s eta 0:00:01\r\u001b[K     |██                              | 40kB 7.7MB/s eta 0:00:01\r\u001b[K     |██▋                             | 51kB 5.2MB/s eta 0:00:01\r\u001b[K     |███▏                            | 61kB 5.7MB/s eta 0:00:01\r\u001b[K     |███▊                            | 71kB 5.5MB/s eta 0:00:01\r\u001b[K     |████▏                           | 81kB 6.1MB/s eta 0:00:01\r\u001b[K     |████▊                           | 92kB 6.1MB/s eta 0:00:01\r\u001b[K     |█████▎                          | 102kB 4.9MB/s eta 0:00:01\r\u001b[K     |█████▊                          | 112kB 4.9MB/s eta 0:00:01\r\u001b[K     |██████▎                         | 122kB 4.9MB/s eta 0:00:01\r\u001b[K     |██████▉                         | 133kB 4.9MB/s eta 0:00:01\r\u001b[K     |███████▍                        | 143kB 4.9MB/s eta 0:00:01\r\u001b[K     |███████▉                        | 153kB 4.9MB/s eta 0:00:01\r\u001b[K     |████████▍                       | 163kB 4.9MB/s eta 0:00:01\r\u001b[K     |█████████                       | 174kB 4.9MB/s eta 0:00:01\r\u001b[K     |█████████▍                      | 184kB 4.9MB/s eta 0:00:01\r\u001b[K     |██████████                      | 194kB 4.9MB/s eta 0:00:01\r\u001b[K     |██████████▌                     | 204kB 4.9MB/s eta 0:00:01\r\u001b[K     |███████████                     | 215kB 4.9MB/s eta 0:00:01\r\u001b[K     |███████████▌                    | 225kB 4.9MB/s eta 0:00:01\r\u001b[K     |████████████                    | 235kB 4.9MB/s eta 0:00:01\r\u001b[K     |████████████▋                   | 245kB 4.9MB/s eta 0:00:01\r\u001b[K     |█████████████                   | 256kB 4.9MB/s eta 0:00:01\r\u001b[K     |█████████████▋                  | 266kB 4.9MB/s eta 0:00:01\r\u001b[K     |██████████████▏                 | 276kB 4.9MB/s eta 0:00:01\r\u001b[K     |██████████████▊                 | 286kB 4.9MB/s eta 0:00:01\r\u001b[K     |███████████████▏                | 296kB 4.9MB/s eta 0:00:01\r\u001b[K     |███████████████▊                | 307kB 4.9MB/s eta 0:00:01\r\u001b[K     |████████████████▎               | 317kB 4.9MB/s eta 0:00:01\r\u001b[K     |████████████████▊               | 327kB 4.9MB/s eta 0:00:01\r\u001b[K     |█████████████████▎              | 337kB 4.9MB/s eta 0:00:01\r\u001b[K     |█████████████████▉              | 348kB 4.9MB/s eta 0:00:01\r\u001b[K     |██████████████████▍             | 358kB 4.9MB/s eta 0:00:01\r\u001b[K     |██████████████████▉             | 368kB 4.9MB/s eta 0:00:01\r\u001b[K     |███████████████████▍            | 378kB 4.9MB/s eta 0:00:01\r\u001b[K     |████████████████████            | 389kB 4.9MB/s eta 0:00:01\r\u001b[K     |████████████████████▌           | 399kB 4.9MB/s eta 0:00:01\r\u001b[K     |█████████████████████           | 409kB 4.9MB/s eta 0:00:01\r\u001b[K     |█████████████████████▌          | 419kB 4.9MB/s eta 0:00:01\r\u001b[K     |██████████████████████          | 430kB 4.9MB/s eta 0:00:01\r\u001b[K     |██████████████████████▌         | 440kB 4.9MB/s eta 0:00:01\r\u001b[K     |███████████████████████         | 450kB 4.9MB/s eta 0:00:01\r\u001b[K     |███████████████████████▋        | 460kB 4.9MB/s eta 0:00:01\r\u001b[K     |████████████████████████▏       | 471kB 4.9MB/s eta 0:00:01\r\u001b[K     |████████████████████████▋       | 481kB 4.9MB/s eta 0:00:01\r\u001b[K     |█████████████████████████▏      | 491kB 4.9MB/s eta 0:00:01\r\u001b[K     |█████████████████████████▊      | 501kB 4.9MB/s eta 0:00:01\r\u001b[K     |██████████████████████████▏     | 512kB 4.9MB/s eta 0:00:01\r\u001b[K     |██████████████████████████▊     | 522kB 4.9MB/s eta 0:00:01\r\u001b[K     |███████████████████████████▎    | 532kB 4.9MB/s eta 0:00:01\r\u001b[K     |███████████████████████████▉    | 542kB 4.9MB/s eta 0:00:01\r\u001b[K     |████████████████████████████▎   | 552kB 4.9MB/s eta 0:00:01\r\u001b[K     |████████████████████████████▉   | 563kB 4.9MB/s eta 0:00:01\r\u001b[K     |█████████████████████████████▍  | 573kB 4.9MB/s eta 0:00:01\r\u001b[K     |█████████████████████████████▉  | 583kB 4.9MB/s eta 0:00:01\r\u001b[K     |██████████████████████████████▍ | 593kB 4.9MB/s eta 0:00:01\r\u001b[K     |███████████████████████████████ | 604kB 4.9MB/s eta 0:00:01\r\u001b[K     |███████████████████████████████▌| 614kB 4.9MB/s eta 0:00:01\r\u001b[K     |████████████████████████████████| 624kB 4.9MB/s eta 0:00:01\r\u001b[K     |████████████████████████████████| 634kB 4.9MB/s \n",
            "\u001b[?25hRequirement already satisfied: scipy in /usr/local/lib/python3.7/dist-packages (from allennlp) (1.4.1)\n",
            "Requirement already satisfied: more-itertools in /usr/local/lib/python3.7/dist-packages (from allennlp) (8.7.0)\n",
            "Requirement already satisfied: spacy<3.1,>=2.1.0 in /usr/local/lib/python3.7/dist-packages (from allennlp) (2.2.4)\n",
            "Requirement already satisfied: tqdm>=4.19 in /usr/local/lib/python3.7/dist-packages (from allennlp) (4.41.1)\n",
            "Collecting wandb<0.11.0,>=0.10.0\n",
            "\u001b[?25l  Downloading https://files.pythonhosted.org/packages/f6/28/4aefc543967839bdb4e139831b82004279f1c435cede2a9557ccf8369875/wandb-0.10.27-py2.py3-none-any.whl (2.1MB)\n",
            "\u001b[K     |████████████████████████████████| 2.1MB 10.1MB/s \n",
            "\u001b[?25hCollecting huggingface-hub>=0.0.8\n",
            "  Downloading https://files.pythonhosted.org/packages/a1/88/7b1e45720ecf59c6c6737ff332f41c955963090a18e72acbcbeac6b25e86/huggingface_hub-0.0.8-py3-none-any.whl\n",
            "Collecting overrides==3.1.0\n",
            "  Downloading https://files.pythonhosted.org/packages/ff/b1/10f69c00947518e6676bbd43e739733048de64b8dd998e9c2d5a71f44c5d/overrides-3.1.0.tar.gz\n",
            "Collecting sentencepiece\n",
            "\u001b[?25l  Downloading https://files.pythonhosted.org/packages/f5/99/e0808cb947ba10f575839c43e8fafc9cc44e4a7a2c8f79c60db48220a577/sentencepiece-0.1.95-cp37-cp37m-manylinux2014_x86_64.whl (1.2MB)\n",
            "\u001b[K     |████████████████████████████████| 1.2MB 28.1MB/s \n",
            "\u001b[?25hRequirement already satisfied: torch<1.9.0,>=1.6.0 in /usr/local/lib/python3.7/dist-packages (from allennlp) (1.8.1+cu101)\n",
            "Requirement already satisfied: lmdb in /usr/local/lib/python3.7/dist-packages (from allennlp) (0.99)\n",
            "Collecting jsonnet>=0.10.0; sys_platform != \"win32\"\n",
            "\u001b[?25l  Downloading https://files.pythonhosted.org/packages/42/40/6f16e5ac994b16fa71c24310f97174ce07d3a97b433275589265c6b94d2b/jsonnet-0.17.0.tar.gz (259kB)\n",
            "\u001b[K     |████████████████████████████████| 266kB 35.0MB/s \n",
            "\u001b[?25hRequirement already satisfied: nltk in /usr/local/lib/python3.7/dist-packages (from allennlp) (3.2.5)\n",
            "Collecting transformers<4.6,>=4.1\n",
            "\u001b[?25l  Downloading https://files.pythonhosted.org/packages/d8/b2/57495b5309f09fa501866e225c84532d1fd89536ea62406b2181933fb418/transformers-4.5.1-py3-none-any.whl (2.1MB)\n",
            "\u001b[K     |████████████████████████████████| 2.1MB 38.2MB/s \n",
            "\u001b[?25hRequirement already satisfied: requests>=2.18 in /usr/local/lib/python3.7/dist-packages (from allennlp) (2.23.0)\n",
            "Requirement already satisfied: filelock<3.1,>=3.0 in /usr/local/lib/python3.7/dist-packages (from allennlp) (3.0.12)\n",
            "Collecting tensorboardX>=1.2\n",
            "\u001b[?25l  Downloading https://files.pythonhosted.org/packages/07/84/46421bd3e0e89a92682b1a38b40efc22dafb6d8e3d947e4ceefd4a5fabc7/tensorboardX-2.2-py2.py3-none-any.whl (120kB)\n",
            "\u001b[K     |████████████████████████████████| 122kB 40.7MB/s \n",
            "\u001b[?25hRequirement already satisfied: torchvision<0.10.0,>=0.8.1 in /usr/local/lib/python3.7/dist-packages (from allennlp) (0.9.1+cu101)\n",
            "Requirement already satisfied: h5py in /usr/local/lib/python3.7/dist-packages (from allennlp) (2.10.0)\n",
            "Requirement already satisfied: scikit-learn in /usr/local/lib/python3.7/dist-packages (from allennlp) (0.22.2.post1)\n",
            "Requirement already satisfied: numpy in /usr/local/lib/python3.7/dist-packages (from allennlp) (1.19.5)\n",
            "Collecting boto3<2.0,>=1.14\n",
            "\u001b[?25l  Downloading https://files.pythonhosted.org/packages/4b/a3/388f78a63b0545f30daf13e6542b0d850f621ff51ef721cf431eef609c87/boto3-1.17.59-py2.py3-none-any.whl (131kB)\n",
            "\u001b[K     |████████████████████████████████| 133kB 41.9MB/s \n",
            "\u001b[?25hRequirement already satisfied: pytest in /usr/local/lib/python3.7/dist-packages (from allennlp) (3.6.4)\n",
            "Requirement already satisfied: wasabi<1.1.0,>=0.4.0 in /usr/local/lib/python3.7/dist-packages (from spacy<3.1,>=2.1.0->allennlp) (0.8.2)\n",
            "Requirement already satisfied: cymem<2.1.0,>=2.0.2 in /usr/local/lib/python3.7/dist-packages (from spacy<3.1,>=2.1.0->allennlp) (2.0.5)\n",
            "Requirement already satisfied: setuptools in /usr/local/lib/python3.7/dist-packages (from spacy<3.1,>=2.1.0->allennlp) (56.0.0)\n",
            "Requirement already satisfied: catalogue<1.1.0,>=0.0.7 in /usr/local/lib/python3.7/dist-packages (from spacy<3.1,>=2.1.0->allennlp) (1.0.0)\n",
            "Requirement already satisfied: srsly<1.1.0,>=1.0.2 in /usr/local/lib/python3.7/dist-packages (from spacy<3.1,>=2.1.0->allennlp) (1.0.5)\n",
            "Requirement already satisfied: blis<0.5.0,>=0.4.0 in /usr/local/lib/python3.7/dist-packages (from spacy<3.1,>=2.1.0->allennlp) (0.4.1)\n",
            "Requirement already satisfied: thinc==7.4.0 in /usr/local/lib/python3.7/dist-packages (from spacy<3.1,>=2.1.0->allennlp) (7.4.0)\n",
            "Requirement already satisfied: murmurhash<1.1.0,>=0.28.0 in /usr/local/lib/python3.7/dist-packages (from spacy<3.1,>=2.1.0->allennlp) (1.0.5)\n",
            "Requirement already satisfied: plac<1.2.0,>=0.9.6 in /usr/local/lib/python3.7/dist-packages (from spacy<3.1,>=2.1.0->allennlp) (1.1.3)\n",
            "Requirement already satisfied: preshed<3.1.0,>=3.0.2 in /usr/local/lib/python3.7/dist-packages (from spacy<3.1,>=2.1.0->allennlp) (3.0.5)\n",
            "Collecting docker-pycreds>=0.4.0\n",
            "  Downloading https://files.pythonhosted.org/packages/f5/e8/f6bd1eee09314e7e6dee49cbe2c5e22314ccdb38db16c9fc72d2fa80d054/docker_pycreds-0.4.0-py2.py3-none-any.whl\n",
            "Requirement already satisfied: psutil>=5.0.0 in /usr/local/lib/python3.7/dist-packages (from wandb<0.11.0,>=0.10.0->allennlp) (5.4.8)\n",
            "Requirement already satisfied: PyYAML in /usr/local/lib/python3.7/dist-packages (from wandb<0.11.0,>=0.10.0->allennlp) (3.13)\n",
            "Collecting sentry-sdk>=0.4.0\n",
            "\u001b[?25l  Downloading https://files.pythonhosted.org/packages/f3/92/5a33be64990ba815364a8f2dd9e6f51de60d23dfddafb4f1fc5577d4dc64/sentry_sdk-1.0.0-py2.py3-none-any.whl (131kB)\n",
            "\u001b[K     |████████████████████████████████| 133kB 42.8MB/s \n",
            "\u001b[?25hCollecting subprocess32>=3.5.3\n",
            "\u001b[?25l  Downloading https://files.pythonhosted.org/packages/32/c8/564be4d12629b912ea431f1a50eb8b3b9d00f1a0b1ceff17f266be190007/subprocess32-3.5.4.tar.gz (97kB)\n",
            "\u001b[K     |████████████████████████████████| 102kB 8.0MB/s \n",
            "\u001b[?25hCollecting shortuuid>=0.5.0\n",
            "  Downloading https://files.pythonhosted.org/packages/25/a6/2ecc1daa6a304e7f1b216f0896b26156b78e7c38e1211e9b798b4716c53d/shortuuid-1.0.1-py3-none-any.whl\n",
            "Requirement already satisfied: protobuf>=3.12.0 in /usr/local/lib/python3.7/dist-packages (from wandb<0.11.0,>=0.10.0->allennlp) (3.12.4)\n",
            "Requirement already satisfied: python-dateutil>=2.6.1 in /usr/local/lib/python3.7/dist-packages (from wandb<0.11.0,>=0.10.0->allennlp) (2.8.1)\n",
            "Requirement already satisfied: Click>=7.0 in /usr/local/lib/python3.7/dist-packages (from wandb<0.11.0,>=0.10.0->allennlp) (7.1.2)\n",
            "Collecting configparser>=3.8.1\n",
            "  Downloading https://files.pythonhosted.org/packages/fd/01/ff260a18caaf4457eb028c96eeb405c4a230ca06c8ec9c1379f813caa52e/configparser-5.0.2-py3-none-any.whl\n",
            "Requirement already satisfied: six>=1.13.0 in /usr/local/lib/python3.7/dist-packages (from wandb<0.11.0,>=0.10.0->allennlp) (1.15.0)\n",
            "Collecting GitPython>=1.0.0\n",
            "\u001b[?25l  Downloading https://files.pythonhosted.org/packages/a6/99/98019716955ba243657daedd1de8f3a88ca1f5b75057c38e959db22fb87b/GitPython-3.1.14-py3-none-any.whl (159kB)\n",
            "\u001b[K     |████████████████████████████████| 163kB 38.9MB/s \n",
            "\u001b[?25hRequirement already satisfied: promise<3,>=2.0 in /usr/local/lib/python3.7/dist-packages (from wandb<0.11.0,>=0.10.0->allennlp) (2.3)\n",
            "Collecting pathtools\n",
            "  Downloading https://files.pythonhosted.org/packages/e7/7f/470d6fcdf23f9f3518f6b0b76be9df16dcc8630ad409947f8be2eb0ed13a/pathtools-0.1.2.tar.gz\n",
            "Requirement already satisfied: importlib-metadata; python_version < \"3.8\" in /usr/local/lib/python3.7/dist-packages (from huggingface-hub>=0.0.8->allennlp) (3.10.1)\n",
            "Requirement already satisfied: typing-extensions in /usr/local/lib/python3.7/dist-packages (from torch<1.9.0,>=1.6.0->allennlp) (3.7.4.3)\n",
            "Requirement already satisfied: regex!=2019.12.17 in /usr/local/lib/python3.7/dist-packages (from transformers<4.6,>=4.1->allennlp) (2019.12.20)\n",
            "Collecting sacremoses\n",
            "\u001b[?25l  Downloading https://files.pythonhosted.org/packages/75/ee/67241dc87f266093c533a2d4d3d69438e57d7a90abb216fa076e7d475d4a/sacremoses-0.0.45-py3-none-any.whl (895kB)\n",
            "\u001b[K     |████████████████████████████████| 901kB 38.3MB/s \n",
            "\u001b[?25hCollecting tokenizers<0.11,>=0.10.1\n",
            "\u001b[?25l  Downloading https://files.pythonhosted.org/packages/ae/04/5b870f26a858552025a62f1649c20d29d2672c02ff3c3fb4c688ca46467a/tokenizers-0.10.2-cp37-cp37m-manylinux2010_x86_64.whl (3.3MB)\n",
            "\u001b[K     |████████████████████████████████| 3.3MB 42.5MB/s \n",
            "\u001b[?25hRequirement already satisfied: packaging in /usr/local/lib/python3.7/dist-packages (from transformers<4.6,>=4.1->allennlp) (20.9)\n",
            "Requirement already satisfied: chardet<4,>=3.0.2 in /usr/local/lib/python3.7/dist-packages (from requests>=2.18->allennlp) (3.0.4)\n",
            "Requirement already satisfied: idna<3,>=2.5 in /usr/local/lib/python3.7/dist-packages (from requests>=2.18->allennlp) (2.10)\n",
            "Requirement already satisfied: urllib3!=1.25.0,!=1.25.1,<1.26,>=1.21.1 in /usr/local/lib/python3.7/dist-packages (from requests>=2.18->allennlp) (1.24.3)\n",
            "Requirement already satisfied: certifi>=2017.4.17 in /usr/local/lib/python3.7/dist-packages (from requests>=2.18->allennlp) (2020.12.5)\n",
            "Requirement already satisfied: pillow>=4.1.1 in /usr/local/lib/python3.7/dist-packages (from torchvision<0.10.0,>=0.8.1->allennlp) (7.1.2)\n",
            "Requirement already satisfied: joblib>=0.11 in /usr/local/lib/python3.7/dist-packages (from scikit-learn->allennlp) (1.0.1)\n",
            "Collecting jmespath<1.0.0,>=0.7.1\n",
            "  Downloading https://files.pythonhosted.org/packages/07/cb/5f001272b6faeb23c1c9e0acc04d48eaaf5c862c17709d20e3469c6e0139/jmespath-0.10.0-py2.py3-none-any.whl\n",
            "Collecting s3transfer<0.5.0,>=0.4.0\n",
            "\u001b[?25l  Downloading https://files.pythonhosted.org/packages/63/d0/693477c688348654ddc21dcdce0817653a294aa43f41771084c25e7ff9c7/s3transfer-0.4.2-py2.py3-none-any.whl (79kB)\n",
            "\u001b[K     |████████████████████████████████| 81kB 6.6MB/s \n",
            "\u001b[?25hCollecting botocore<1.21.0,>=1.20.59\n",
            "\u001b[?25l  Downloading https://files.pythonhosted.org/packages/25/68/e91883d8f68183216fac7cfa855cd0d1b3336c3d4b82cd4b99591118bcc7/botocore-1.20.59-py2.py3-none-any.whl (7.4MB)\n",
            "\u001b[K     |████████████████████████████████| 7.4MB 49.3MB/s \n",
            "\u001b[?25hRequirement already satisfied: attrs>=17.4.0 in /usr/local/lib/python3.7/dist-packages (from pytest->allennlp) (20.3.0)\n",
            "Requirement already satisfied: py>=1.5.0 in /usr/local/lib/python3.7/dist-packages (from pytest->allennlp) (1.10.0)\n",
            "Requirement already satisfied: pluggy<0.8,>=0.5 in /usr/local/lib/python3.7/dist-packages (from pytest->allennlp) (0.7.1)\n",
            "Requirement already satisfied: atomicwrites>=1.0 in /usr/local/lib/python3.7/dist-packages (from pytest->allennlp) (1.4.0)\n",
            "Collecting gitdb<5,>=4.0.1\n",
            "\u001b[?25l  Downloading https://files.pythonhosted.org/packages/ea/e8/f414d1a4f0bbc668ed441f74f44c116d9816833a48bf81d22b697090dba8/gitdb-4.0.7-py3-none-any.whl (63kB)\n",
            "\u001b[K     |████████████████████████████████| 71kB 6.5MB/s \n",
            "\u001b[?25hRequirement already satisfied: zipp>=0.5 in /usr/local/lib/python3.7/dist-packages (from importlib-metadata; python_version < \"3.8\"->huggingface-hub>=0.0.8->allennlp) (3.4.1)\n",
            "Requirement already satisfied: pyparsing>=2.0.2 in /usr/local/lib/python3.7/dist-packages (from packaging->transformers<4.6,>=4.1->allennlp) (2.4.7)\n",
            "Collecting smmap<5,>=3.0.1\n",
            "  Downloading https://files.pythonhosted.org/packages/68/ee/d540eb5e5996eb81c26ceffac6ee49041d473bc5125f2aa995cf51ec1cf1/smmap-4.0.0-py2.py3-none-any.whl\n",
            "Building wheels for collected packages: overrides, jsonnet, subprocess32, pathtools\n",
            "  Building wheel for overrides (setup.py) ... \u001b[?25l\u001b[?25hdone\n",
            "  Created wheel for overrides: filename=overrides-3.1.0-cp37-none-any.whl size=10174 sha256=9a4620a93c73b6f82008846b4e10a95cb84160611046084c501549a7ff91475c\n",
            "  Stored in directory: /root/.cache/pip/wheels/5c/24/13/6ef8600e6f147c95e595f1289a86a3cc82ed65df57582c65a9\n",
            "  Building wheel for jsonnet (setup.py) ... \u001b[?25l\u001b[?25hdone\n",
            "  Created wheel for jsonnet: filename=jsonnet-0.17.0-cp37-cp37m-linux_x86_64.whl size=3388757 sha256=d2fed9aa25ed2b248847172c2fd1cc6bcf17181cea20871502ed0c8f0e9f5540\n",
            "  Stored in directory: /root/.cache/pip/wheels/26/7a/37/7dbcc30a6b4efd17b91ad1f0128b7bbf84813bd4e1cfb8c1e3\n",
            "  Building wheel for subprocess32 (setup.py) ... \u001b[?25l\u001b[?25hdone\n",
            "  Created wheel for subprocess32: filename=subprocess32-3.5.4-cp37-none-any.whl size=6489 sha256=24984e7ec176d3c913a22cacfa5ac3742c0bd06cdd94fd5a8109e57da8ea98cc\n",
            "  Stored in directory: /root/.cache/pip/wheels/68/39/1a/5e402bdfdf004af1786c8b853fd92f8c4a04f22aad179654d1\n",
            "  Building wheel for pathtools (setup.py) ... \u001b[?25l\u001b[?25hdone\n",
            "  Created wheel for pathtools: filename=pathtools-0.1.2-cp37-none-any.whl size=8786 sha256=be087d4022841e910b7bf7423c9ce000c0674d8449e600e2c5517de9dd313972\n",
            "  Stored in directory: /root/.cache/pip/wheels/0b/04/79/c3b0c3a0266a3cb4376da31e5bfe8bba0c489246968a68e843\n",
            "Successfully built overrides jsonnet subprocess32 pathtools\n",
            "\u001b[31mERROR: botocore 1.20.59 has requirement urllib3<1.27,>=1.25.4, but you'll have urllib3 1.24.3 which is incompatible.\u001b[0m\n",
            "Installing collected packages: docker-pycreds, sentry-sdk, subprocess32, shortuuid, configparser, smmap, gitdb, GitPython, pathtools, wandb, huggingface-hub, overrides, sentencepiece, jsonnet, sacremoses, tokenizers, transformers, tensorboardX, jmespath, botocore, s3transfer, boto3, allennlp\n",
            "Successfully installed GitPython-3.1.14 allennlp-2.4.0 boto3-1.17.59 botocore-1.20.59 configparser-5.0.2 docker-pycreds-0.4.0 gitdb-4.0.7 huggingface-hub-0.0.8 jmespath-0.10.0 jsonnet-0.17.0 overrides-3.1.0 pathtools-0.1.2 s3transfer-0.4.2 sacremoses-0.0.45 sentencepiece-0.1.95 sentry-sdk-1.0.0 shortuuid-1.0.1 smmap-4.0.0 subprocess32-3.5.4 tensorboardX-2.2 tokenizers-0.10.2 transformers-4.5.1 wandb-0.10.27\n",
            "Collecting allennlp-models\n",
            "\u001b[?25l  Downloading https://files.pythonhosted.org/packages/e9/67/2b33984451870548a2b6d2169d68c81adac0115462f7a62317de31f77f19/allennlp_models-2.4.0-py3-none-any.whl (424kB)\n",
            "\u001b[K     |████████████████████████████████| 430kB 5.0MB/s \n",
            "\u001b[?25hCollecting conllu==4.4\n",
            "  Downloading https://files.pythonhosted.org/packages/ae/be/be6959c3ff2dbfdd87de4be0ccdff577835b5d08b1d25bf7fd4aaf0d7add/conllu-4.4-py2.py3-none-any.whl\n",
            "Requirement already satisfied: nltk in /usr/local/lib/python3.7/dist-packages (from allennlp-models) (3.2.5)\n",
            "Collecting py-rouge==1.1\n",
            "\u001b[?25l  Downloading https://files.pythonhosted.org/packages/9c/1d/0bdbaf559fb7afe32308ebc84a2028600988212d7eb7fb9f69c4e829e4a0/py_rouge-1.1-py3-none-any.whl (56kB)\n",
            "\u001b[K     |████████████████████████████████| 61kB 5.1MB/s \n",
            "\u001b[?25hRequirement already satisfied: allennlp<2.5,>=2.4.0 in /usr/local/lib/python3.7/dist-packages (from allennlp-models) (2.4.0)\n",
            "Requirement already satisfied: torch<1.9.0,>=1.7.0 in /usr/local/lib/python3.7/dist-packages (from allennlp-models) (1.8.1+cu101)\n",
            "Collecting ftfy\n",
            "\u001b[?25l  Downloading https://files.pythonhosted.org/packages/ce/b5/5da463f9c7823e0e575e9908d004e2af4b36efa8d02d3d6dad57094fcb11/ftfy-6.0.1.tar.gz (63kB)\n",
            "\u001b[K     |████████████████████████████████| 71kB 5.3MB/s \n",
            "\u001b[?25hCollecting word2number>=1.1\n",
            "  Downloading https://files.pythonhosted.org/packages/4a/29/a31940c848521f0725f0df6b25dca8917f13a2025b0e8fcbe5d0457e45e6/word2number-1.1.zip\n",
            "Requirement already satisfied: six in /usr/local/lib/python3.7/dist-packages (from nltk->allennlp-models) (1.15.0)\n",
            "Requirement already satisfied: jsonnet>=0.10.0; sys_platform != \"win32\" in /usr/local/lib/python3.7/dist-packages (from allennlp<2.5,>=2.4.0->allennlp-models) (0.17.0)\n",
            "Requirement already satisfied: h5py in /usr/local/lib/python3.7/dist-packages (from allennlp<2.5,>=2.4.0->allennlp-models) (2.10.0)\n",
            "Requirement already satisfied: transformers<4.6,>=4.1 in /usr/local/lib/python3.7/dist-packages (from allennlp<2.5,>=2.4.0->allennlp-models) (4.5.1)\n",
            "Requirement already satisfied: more-itertools in /usr/local/lib/python3.7/dist-packages (from allennlp<2.5,>=2.4.0->allennlp-models) (8.7.0)\n",
            "Requirement already satisfied: pytest in /usr/local/lib/python3.7/dist-packages (from allennlp<2.5,>=2.4.0->allennlp-models) (3.6.4)\n",
            "Requirement already satisfied: scipy in /usr/local/lib/python3.7/dist-packages (from allennlp<2.5,>=2.4.0->allennlp-models) (1.4.1)\n",
            "Requirement already satisfied: sentencepiece in /usr/local/lib/python3.7/dist-packages (from allennlp<2.5,>=2.4.0->allennlp-models) (0.1.95)\n",
            "Requirement already satisfied: tqdm>=4.19 in /usr/local/lib/python3.7/dist-packages (from allennlp<2.5,>=2.4.0->allennlp-models) (4.41.1)\n",
            "Requirement already satisfied: tensorboardX>=1.2 in /usr/local/lib/python3.7/dist-packages (from allennlp<2.5,>=2.4.0->allennlp-models) (2.2)\n",
            "Requirement already satisfied: numpy in /usr/local/lib/python3.7/dist-packages (from allennlp<2.5,>=2.4.0->allennlp-models) (1.19.5)\n",
            "Requirement already satisfied: spacy<3.1,>=2.1.0 in /usr/local/lib/python3.7/dist-packages (from allennlp<2.5,>=2.4.0->allennlp-models) (2.2.4)\n",
            "Requirement already satisfied: filelock<3.1,>=3.0 in /usr/local/lib/python3.7/dist-packages (from allennlp<2.5,>=2.4.0->allennlp-models) (3.0.12)\n",
            "Requirement already satisfied: scikit-learn in /usr/local/lib/python3.7/dist-packages (from allennlp<2.5,>=2.4.0->allennlp-models) (0.22.2.post1)\n",
            "Requirement already satisfied: huggingface-hub>=0.0.8 in /usr/local/lib/python3.7/dist-packages (from allennlp<2.5,>=2.4.0->allennlp-models) (0.0.8)\n",
            "Requirement already satisfied: requests>=2.18 in /usr/local/lib/python3.7/dist-packages (from allennlp<2.5,>=2.4.0->allennlp-models) (2.23.0)\n",
            "Requirement already satisfied: wandb<0.11.0,>=0.10.0 in /usr/local/lib/python3.7/dist-packages (from allennlp<2.5,>=2.4.0->allennlp-models) (0.10.27)\n",
            "Requirement already satisfied: lmdb in /usr/local/lib/python3.7/dist-packages (from allennlp<2.5,>=2.4.0->allennlp-models) (0.99)\n",
            "Requirement already satisfied: boto3<2.0,>=1.14 in /usr/local/lib/python3.7/dist-packages (from allennlp<2.5,>=2.4.0->allennlp-models) (1.17.59)\n",
            "Requirement already satisfied: torchvision<0.10.0,>=0.8.1 in /usr/local/lib/python3.7/dist-packages (from allennlp<2.5,>=2.4.0->allennlp-models) (0.9.1+cu101)\n",
            "Requirement already satisfied: overrides==3.1.0 in /usr/local/lib/python3.7/dist-packages (from allennlp<2.5,>=2.4.0->allennlp-models) (3.1.0)\n",
            "Requirement already satisfied: typing-extensions in /usr/local/lib/python3.7/dist-packages (from torch<1.9.0,>=1.7.0->allennlp-models) (3.7.4.3)\n",
            "Requirement already satisfied: wcwidth in /usr/local/lib/python3.7/dist-packages (from ftfy->allennlp-models) (0.2.5)\n",
            "Requirement already satisfied: sacremoses in /usr/local/lib/python3.7/dist-packages (from transformers<4.6,>=4.1->allennlp<2.5,>=2.4.0->allennlp-models) (0.0.45)\n",
            "Requirement already satisfied: packaging in /usr/local/lib/python3.7/dist-packages (from transformers<4.6,>=4.1->allennlp<2.5,>=2.4.0->allennlp-models) (20.9)\n",
            "Requirement already satisfied: importlib-metadata; python_version < \"3.8\" in /usr/local/lib/python3.7/dist-packages (from transformers<4.6,>=4.1->allennlp<2.5,>=2.4.0->allennlp-models) (3.10.1)\n",
            "Requirement already satisfied: regex!=2019.12.17 in /usr/local/lib/python3.7/dist-packages (from transformers<4.6,>=4.1->allennlp<2.5,>=2.4.0->allennlp-models) (2019.12.20)\n",
            "Requirement already satisfied: tokenizers<0.11,>=0.10.1 in /usr/local/lib/python3.7/dist-packages (from transformers<4.6,>=4.1->allennlp<2.5,>=2.4.0->allennlp-models) (0.10.2)\n",
            "Requirement already satisfied: pluggy<0.8,>=0.5 in /usr/local/lib/python3.7/dist-packages (from pytest->allennlp<2.5,>=2.4.0->allennlp-models) (0.7.1)\n",
            "Requirement already satisfied: setuptools in /usr/local/lib/python3.7/dist-packages (from pytest->allennlp<2.5,>=2.4.0->allennlp-models) (56.0.0)\n",
            "Requirement already satisfied: attrs>=17.4.0 in /usr/local/lib/python3.7/dist-packages (from pytest->allennlp<2.5,>=2.4.0->allennlp-models) (20.3.0)\n",
            "Requirement already satisfied: py>=1.5.0 in /usr/local/lib/python3.7/dist-packages (from pytest->allennlp<2.5,>=2.4.0->allennlp-models) (1.10.0)\n",
            "Requirement already satisfied: atomicwrites>=1.0 in /usr/local/lib/python3.7/dist-packages (from pytest->allennlp<2.5,>=2.4.0->allennlp-models) (1.4.0)\n",
            "Requirement already satisfied: protobuf>=3.8.0 in /usr/local/lib/python3.7/dist-packages (from tensorboardX>=1.2->allennlp<2.5,>=2.4.0->allennlp-models) (3.12.4)\n",
            "Requirement already satisfied: murmurhash<1.1.0,>=0.28.0 in /usr/local/lib/python3.7/dist-packages (from spacy<3.1,>=2.1.0->allennlp<2.5,>=2.4.0->allennlp-models) (1.0.5)\n",
            "Requirement already satisfied: catalogue<1.1.0,>=0.0.7 in /usr/local/lib/python3.7/dist-packages (from spacy<3.1,>=2.1.0->allennlp<2.5,>=2.4.0->allennlp-models) (1.0.0)\n",
            "Requirement already satisfied: preshed<3.1.0,>=3.0.2 in /usr/local/lib/python3.7/dist-packages (from spacy<3.1,>=2.1.0->allennlp<2.5,>=2.4.0->allennlp-models) (3.0.5)\n",
            "Requirement already satisfied: srsly<1.1.0,>=1.0.2 in /usr/local/lib/python3.7/dist-packages (from spacy<3.1,>=2.1.0->allennlp<2.5,>=2.4.0->allennlp-models) (1.0.5)\n",
            "Requirement already satisfied: wasabi<1.1.0,>=0.4.0 in /usr/local/lib/python3.7/dist-packages (from spacy<3.1,>=2.1.0->allennlp<2.5,>=2.4.0->allennlp-models) (0.8.2)\n",
            "Requirement already satisfied: plac<1.2.0,>=0.9.6 in /usr/local/lib/python3.7/dist-packages (from spacy<3.1,>=2.1.0->allennlp<2.5,>=2.4.0->allennlp-models) (1.1.3)\n",
            "Requirement already satisfied: blis<0.5.0,>=0.4.0 in /usr/local/lib/python3.7/dist-packages (from spacy<3.1,>=2.1.0->allennlp<2.5,>=2.4.0->allennlp-models) (0.4.1)\n",
            "Requirement already satisfied: thinc==7.4.0 in /usr/local/lib/python3.7/dist-packages (from spacy<3.1,>=2.1.0->allennlp<2.5,>=2.4.0->allennlp-models) (7.4.0)\n",
            "Requirement already satisfied: cymem<2.1.0,>=2.0.2 in /usr/local/lib/python3.7/dist-packages (from spacy<3.1,>=2.1.0->allennlp<2.5,>=2.4.0->allennlp-models) (2.0.5)\n",
            "Requirement already satisfied: joblib>=0.11 in /usr/local/lib/python3.7/dist-packages (from scikit-learn->allennlp<2.5,>=2.4.0->allennlp-models) (1.0.1)\n",
            "Requirement already satisfied: urllib3!=1.25.0,!=1.25.1,<1.26,>=1.21.1 in /usr/local/lib/python3.7/dist-packages (from requests>=2.18->allennlp<2.5,>=2.4.0->allennlp-models) (1.24.3)\n",
            "Requirement already satisfied: certifi>=2017.4.17 in /usr/local/lib/python3.7/dist-packages (from requests>=2.18->allennlp<2.5,>=2.4.0->allennlp-models) (2020.12.5)\n",
            "Requirement already satisfied: chardet<4,>=3.0.2 in /usr/local/lib/python3.7/dist-packages (from requests>=2.18->allennlp<2.5,>=2.4.0->allennlp-models) (3.0.4)\n",
            "Requirement already satisfied: idna<3,>=2.5 in /usr/local/lib/python3.7/dist-packages (from requests>=2.18->allennlp<2.5,>=2.4.0->allennlp-models) (2.10)\n",
            "Requirement already satisfied: promise<3,>=2.0 in /usr/local/lib/python3.7/dist-packages (from wandb<0.11.0,>=0.10.0->allennlp<2.5,>=2.4.0->allennlp-models) (2.3)\n",
            "Requirement already satisfied: GitPython>=1.0.0 in /usr/local/lib/python3.7/dist-packages (from wandb<0.11.0,>=0.10.0->allennlp<2.5,>=2.4.0->allennlp-models) (3.1.14)\n",
            "Requirement already satisfied: sentry-sdk>=0.4.0 in /usr/local/lib/python3.7/dist-packages (from wandb<0.11.0,>=0.10.0->allennlp<2.5,>=2.4.0->allennlp-models) (1.0.0)\n",
            "Requirement already satisfied: docker-pycreds>=0.4.0 in /usr/local/lib/python3.7/dist-packages (from wandb<0.11.0,>=0.10.0->allennlp<2.5,>=2.4.0->allennlp-models) (0.4.0)\n",
            "Requirement already satisfied: Click>=7.0 in /usr/local/lib/python3.7/dist-packages (from wandb<0.11.0,>=0.10.0->allennlp<2.5,>=2.4.0->allennlp-models) (7.1.2)\n",
            "Requirement already satisfied: psutil>=5.0.0 in /usr/local/lib/python3.7/dist-packages (from wandb<0.11.0,>=0.10.0->allennlp<2.5,>=2.4.0->allennlp-models) (5.4.8)\n",
            "Requirement already satisfied: subprocess32>=3.5.3 in /usr/local/lib/python3.7/dist-packages (from wandb<0.11.0,>=0.10.0->allennlp<2.5,>=2.4.0->allennlp-models) (3.5.4)\n",
            "Requirement already satisfied: pathtools in /usr/local/lib/python3.7/dist-packages (from wandb<0.11.0,>=0.10.0->allennlp<2.5,>=2.4.0->allennlp-models) (0.1.2)\n",
            "Requirement already satisfied: python-dateutil>=2.6.1 in /usr/local/lib/python3.7/dist-packages (from wandb<0.11.0,>=0.10.0->allennlp<2.5,>=2.4.0->allennlp-models) (2.8.1)\n",
            "Requirement already satisfied: PyYAML in /usr/local/lib/python3.7/dist-packages (from wandb<0.11.0,>=0.10.0->allennlp<2.5,>=2.4.0->allennlp-models) (3.13)\n",
            "Requirement already satisfied: shortuuid>=0.5.0 in /usr/local/lib/python3.7/dist-packages (from wandb<0.11.0,>=0.10.0->allennlp<2.5,>=2.4.0->allennlp-models) (1.0.1)\n",
            "Requirement already satisfied: configparser>=3.8.1 in /usr/local/lib/python3.7/dist-packages (from wandb<0.11.0,>=0.10.0->allennlp<2.5,>=2.4.0->allennlp-models) (5.0.2)\n",
            "Requirement already satisfied: botocore<1.21.0,>=1.20.59 in /usr/local/lib/python3.7/dist-packages (from boto3<2.0,>=1.14->allennlp<2.5,>=2.4.0->allennlp-models) (1.20.59)\n",
            "Requirement already satisfied: s3transfer<0.5.0,>=0.4.0 in /usr/local/lib/python3.7/dist-packages (from boto3<2.0,>=1.14->allennlp<2.5,>=2.4.0->allennlp-models) (0.4.2)\n",
            "Requirement already satisfied: jmespath<1.0.0,>=0.7.1 in /usr/local/lib/python3.7/dist-packages (from boto3<2.0,>=1.14->allennlp<2.5,>=2.4.0->allennlp-models) (0.10.0)\n",
            "Requirement already satisfied: pillow>=4.1.1 in /usr/local/lib/python3.7/dist-packages (from torchvision<0.10.0,>=0.8.1->allennlp<2.5,>=2.4.0->allennlp-models) (7.1.2)\n",
            "Requirement already satisfied: pyparsing>=2.0.2 in /usr/local/lib/python3.7/dist-packages (from packaging->transformers<4.6,>=4.1->allennlp<2.5,>=2.4.0->allennlp-models) (2.4.7)\n",
            "Requirement already satisfied: zipp>=0.5 in /usr/local/lib/python3.7/dist-packages (from importlib-metadata; python_version < \"3.8\"->transformers<4.6,>=4.1->allennlp<2.5,>=2.4.0->allennlp-models) (3.4.1)\n",
            "Requirement already satisfied: gitdb<5,>=4.0.1 in /usr/local/lib/python3.7/dist-packages (from GitPython>=1.0.0->wandb<0.11.0,>=0.10.0->allennlp<2.5,>=2.4.0->allennlp-models) (4.0.7)\n",
            "Requirement already satisfied: smmap<5,>=3.0.1 in /usr/local/lib/python3.7/dist-packages (from gitdb<5,>=4.0.1->GitPython>=1.0.0->wandb<0.11.0,>=0.10.0->allennlp<2.5,>=2.4.0->allennlp-models) (4.0.0)\n",
            "Building wheels for collected packages: ftfy, word2number\n",
            "  Building wheel for ftfy (setup.py) ... \u001b[?25l\u001b[?25hdone\n",
            "  Created wheel for ftfy: filename=ftfy-6.0.1-cp37-none-any.whl size=41573 sha256=911d50727b67d1080c2ecad58737fc7d3b3c2ecd9d8714f27f4e8a5bf0367337\n",
            "  Stored in directory: /root/.cache/pip/wheels/ae/73/c7/9056e14b04919e5c262fe80b54133b1a88d73683d05d7ac65c\n",
            "  Building wheel for word2number (setup.py) ... \u001b[?25l\u001b[?25hdone\n",
            "  Created wheel for word2number: filename=word2number-1.1-cp37-none-any.whl size=5589 sha256=a24be154adc09c8868b8a06c0635b98de6f0b57f9922000dfe10c07ad484e9da\n",
            "  Stored in directory: /root/.cache/pip/wheels/46/2f/53/5f5c1d275492f2fce1cdab9a9bb12d49286dead829a4078e0e\n",
            "Successfully built ftfy word2number\n",
            "Installing collected packages: conllu, py-rouge, ftfy, word2number, allennlp-models\n",
            "Successfully installed allennlp-models-2.4.0 conllu-4.4 ftfy-6.0.1 py-rouge-1.1 word2number-1.1\n"
          ],
          "name": "stdout"
        }
      ]
    },
    {
      "cell_type": "code",
      "metadata": {
        "colab": {
          "base_uri": "https://localhost:8080/"
        },
        "id": "sEGwdF2Kl1Aq",
        "outputId": "735361dc-8c7c-499d-fe5c-d3cd0e1473f7"
      },
      "source": [
        "from allennlp.predictors.predictor import Predictor\n",
        "predictor = Predictor.from_path(\"https://storage.googleapis.com/allennlp-public-models/bidaf-elmo-model-2020.03.19.tar.gz\")"
      ],
      "execution_count": null,
      "outputs": [
        {
          "output_type": "stream",
          "text": [
            "[nltk_data] Downloading package punkt to /root/nltk_data...\n",
            "[nltk_data]   Unzipping tokenizers/punkt.zip.\n",
            "[nltk_data] Downloading package wordnet to /root/nltk_data...\n",
            "[nltk_data]   Unzipping corpora/wordnet.zip.\n"
          ],
          "name": "stdout"
        },
        {
          "output_type": "stream",
          "text": [
            "Plugin allennlp_models could not be loaded: No module named 'nltk.translate.meteor_score'\n",
            "downloading: 100%|##########| 418130723/418130723 [00:08<00:00, 47711557.73B/s]\n",
            "downloading: 100%|##########| 336/336 [00:00<00:00, 332614.15B/s]\n",
            "downloading: 100%|##########| 374434792/374434792 [00:12<00:00, 29653520.90B/s]\n"
          ],
          "name": "stderr"
        }
      ]
    },
    {
      "cell_type": "code",
      "metadata": {
        "colab": {
          "base_uri": "https://localhost:8080/",
          "height": 35
        },
        "id": "aawk7Ef0msdK",
        "outputId": "c2f70c51-1f8f-487c-f34b-056effd87a54"
      },
      "source": [
        "passage = \"\"\"In simple terms, a decision is the making of a choice between two or more alternatives. Every time a problem arises and we need to make a decision, we consciously or unconsciously follow four main steps, which can be framed as questions.The decision-making process involves four main steps: (1) establishing goals, (2) gathering information on alternatives, (3) determining the consequences of alternatives, and (4) choosing a course of action. Many (if not most) of the decisions that we make involve the use of economic resources: These are resources that are traded in the marketplace at a price because they are in limited or scarce supply. Accounting has been defined as the process of identifying, measuring, recording and communicating economic information to permit informed judgments and economic decisions by users of the information. Identification involves observing economic events and determining which of those events represent economic activities relevant to a particular business. (1) Selling goods to a customer, (2) paying wages to employees,  (3) providing services to a client, are examples of economic activities. Accountants traditionally have been viewed as the \\u2018bean counters\\u2019 or \\u2018number crunchers\\u2019 of an organization, but this is no longer their major task. Computerized accounting systems can now do much of the work. Even small businesses have access to computerized accounting systems such as Mind Your Own Business (MYOB), so the role of accountants has changed radically. One thing is certain: change will continue. In order to cope, accountants of the future need to have not only record-keeping knowledge but also analytical and communication skills and business strategy and planning know-how they need the ability to think clearly and critically in order to solve problems, a familiarity with information systems and technology, strong interpersonal communication skills with clients and business associates and sound ethical behavior in different cultural environments. Accounting is usually a core unit in business degrees as it is the \\u2018language of businesses. Economic decisions are made for consumption purposes, investment purposes and/or financial purposes. In addition, shareholders, creditors, government departments and not for profit organizations (such as clubs and societies) need financial information to help make investing, lending, regulatory and tax related decisions. Economic events of an entity are referred to by accountants as transactions. Transactions constitute the inputs of the accounting information system. Economic events of an entity are referred to by accountants as transactions, and are of two types, external and internal. External transactions (often called exchange transactions) are those that involve economic events between one entity and another entity. When an entity purchases goods from a supplier, borrows money from a bank, or sells goods and services to customers, it participates in external or exchange transactions. Internal transactions are those economic events that take place entirely within one entity. the depreciation of machinery used in the production of goods must be accounted for, and since it does not concern an outside party, it is an internal transaction. Money serves as both a medium of exchange and as a measure of value, allowing us to compare the value or worth of diverse objects and to add and subtract the economic effects of various transactions. Recording provides a history of the economic activities of a particular entity. Recording is the process of systematically maintaining a file of all transactions which have affected the business entity after they have been identified and measured. Classification allows thousands of transactions to be placed into more meaningful groups or categories. All transactions involving the sale of goods, for example, can be grouped into one total sales figure and all transactions involving cash received can be grouped to report a single cash receipt figure. Summarization of financial data is presented in reports and financial statements, which are provided for use by both management and external users of accounting information. These reports usually summarize the effects of all transactions occurring during some time period such as a month, a quarter or a year. Communication can be described as the process of preparing and distributing accounting reports to potential users of accounting information. Communication is the final part of the accounting process. Accounting has been defined as the process of identifying, measuring, recording and communicating economic information to permit informed judgments and economic decisions by users of the information. The recording or record keeping process involves measuring and recording business transactions and may take place in one of several forms: handwritten records, mechanical or electronic devices, or simply magnetic tapes or disks in a computerized system. Computers have had a significant impact on the recording phase of the accounting process. The processes of recording, classification and summarization can be done electronically, and hence the recording process is much more automated. Reports prepared for external users include financial statements which generally consist of an income statement (also called a statement of comprehensive income), a balance sheet (also called a statement of financial position), a statement of changes in equity and a statement of cash flows. Reports prepared for external users include financial statements which generally consist of an income statement (also called a statement of comprehensive income), a balance sheet (also called a statement of financial position), a statement of changes in equity and a statement of cash flows. Internal decision makers \\u2014 managers \\u2014 require special purpose financial statements to help in planning and controlling the operations of an entity. Internal decision makers \\u2014 managers \\u2014 require special purpose financial statements to help in planning and controlling the operations of an entity. Management accounting covers many activities, including cost behaviour and cost\\u2013volume\\u2013profit relationships, decision making through incremental analysis, capital budgeting, budgeting for financial planning and control, flexible budgeting for performance evaluation, the determination of manufacturing costs and costing systems, and accounting and reporting for business segment operations. Financial accounting is concerned with reporting information to users external to an entity in order to help them to make sound economic decisions about the entity\\u2019s performance and financial position. Financial Accounting Users of reports Users are outside the entity: shareholders, lenders, potential investors, creditors, customers, Government, interest groups. Financial Accounting \\u2013Types of reports General purpose financial statements for external users: balance sheet, income statement, statement of changes in equity, statement of cash flows. Accountants generally practice in three main areas: public accounting, commercial accounting and not for profit accounting. Because of the complexity of today\\u2019s business structure and increasing regulation by government, members of public accounting businesses tend to specialize in one of four general services: auditing and assurance services, taxation services, advisory services, and insolvency and administration. An audit is an independent examination of a business entity\\u2019s financial statements, supporting documents and records in order to form an opinion as to whether they comply with certain levels of quality, as specified in accounting standards, and present a true and fair view of the entity\\u2019s performance and financial position. assessment of risk \\u2014 evaluates whether an entity has appropriate systems in place to effectively manage business risk. business performance measurement \\u2014 evaluates whether an entity\\u2019s accounting system contains measures to assess the degree to which an entity is achieving its goals and objectives, and how the entity\\u2019s performance compares with its competitors. information systems reliability \\u2014 assesses whether the entity\\u2019s accounting system provides reliable information for making economic decisions. sustainability audits \\u2014 independent assessment of compliance with environmental requirements and the assessment of risks and preventative or corrective actions. For example, the assurance of carbon emissions and water reporting. Accountants provide advice concerning the tax consequences of business decisions. Individuals and business entities have to collect or pay various forms of taxes including income tax, capital gains tax, fringe benefits tax, goods and services tax, local government rates, and other taxes. Accountants are often engaged to help in tax planning to minimize the tax liability of the business, consistent with the rules and regulations established by taxing agencies. Accountants also are often called on to prepare tax returns, including business activity statements(BASs), required by law. To offer such services, accountants must be thoroughly familiar with tax laws and regulations. Some businesses have difficulty in paying their short term debts as they fall due, which means that they are becoming illiquid. If an entity cannot pay its long term debts, the entity is said to be insolvent. Public accountants are employed to help businesses administer their recovery from trading difficulties or insolvency, if possible. However, if recovery is not possible, accountants then assist in the winding up of the business\\u2019s affairs. In the case of the company form of business organization, such a wind up is referred to as liquidation. Cost accounting deals with the collection, allocation and control of the costs of producing specific products and services. Budgeting is the phase of accounting that deals with the preparation of a plan or forecast of future operations. Its main function is to provide management with a projection of the activities necessary to reach established goals. Budgets are generally prepared for the business entity as a whole as well as for subunits. They serve as control devices when used in conjunction with performance reports, which measure actual results for the period. Businesses are assessed for a variety of taxes \\u2014 including income tax, capital gains tax, GST and fringe benefits tax. To supplement the annual audit by the external auditor, many organizations also maintain an internal audit department. Its main function is to conduct ongoing reviews to make certain that established procedures and policies are being followed. Accounting for not for profit entities may require a different approach in some respects because of the absence of a profit motive. Government accounting is concerned with the efficient use of its resources, consistent with the provisions of city, shire, state and federal laws. Other not for profit organizations (churches, hospitals, charities, clubs, private educational institutions) also have specialized accounting needs. commercial accounting \\u2014 where accountants are employed by business entities, and are involved in general accounting, cost accounting, accounting information systems, budgeting, taxation, and internal auditing. The code of ethics establishes the fundamental principles of professional ethics and provides a conceptual framework for applying those principles. A single proprietorship or sole trader is a business entity owned by one person. Many small service enterprises, retail stores and professional practices are operated as single proprietorships.\"\"\"\n",
        "result=predictor.predict(\n",
        "  passage=passage,\n",
        "  question= \"State the reasons for rapid change in accountant’s role\"\n",
        ")\n",
        "result['best_span_str']"
      ],
      "execution_count": null,
      "outputs": [
        {
          "output_type": "execute_result",
          "data": {
            "application/vnd.google.colaboratory.intrinsic+json": {
              "type": "string"
            },
            "text/plain": [
              "'external and internal'"
            ]
          },
          "metadata": {
            "tags": []
          },
          "execution_count": 3
        }
      ]
    },
    {
      "cell_type": "code",
      "metadata": {
        "id": "wGi5UHM4nlIx"
      },
      "source": [
        "result = predictor.predict(passage=passage, question=\"What are the four steps in the decision making process?\")\n",
        "print (result['best_span_str'])"
      ],
      "execution_count": null,
      "outputs": []
    },
    {
      "cell_type": "code",
      "metadata": {
        "colab": {
          "base_uri": "https://localhost:8080/",
          "height": 35
        },
        "id": "P605Fpov2Bh7",
        "outputId": "14b3a785-19fe-4b28-d1f0-60dd7f287886"
      },
      "source": [
        "import allennlp\n",
        "allennlp.__version__"
      ],
      "execution_count": null,
      "outputs": [
        {
          "output_type": "execute_result",
          "data": {
            "application/vnd.google.colaboratory.intrinsic+json": {
              "type": "string"
            },
            "text/plain": [
              "'2.4.0'"
            ]
          },
          "metadata": {
            "tags": []
          },
          "execution_count": 6
        }
      ]
    }
  ]
}