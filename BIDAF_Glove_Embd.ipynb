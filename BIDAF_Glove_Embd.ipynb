{
  "nbformat": 4,
  "nbformat_minor": 0,
  "metadata": {
    "colab": {
      "name": "BIDAF_Glove_Embd.ipynb",
      "provenance": [],
      "collapsed_sections": [],
      "include_colab_link": true
    },
    "kernelspec": {
      "display_name": "Python 3",
      "name": "python3"
    },
    "language_info": {
      "name": "python"
    }
  },
  "cells": [
    {
      "cell_type": "markdown",
      "metadata": {
        "id": "view-in-github",
        "colab_type": "text"
      },
      "source": [
        "<a href=\"https://colab.research.google.com/github/AmmarFahmy/flow-2-qa-models/blob/master-ammar/BIDAF_Glove_Embd.ipynb\" target=\"_parent\"><img src=\"https://colab.research.google.com/assets/colab-badge.svg\" alt=\"Open In Colab\"/></a>"
      ]
    },
    {
      "cell_type": "code",
      "metadata": {
        "colab": {
          "base_uri": "https://localhost:8080/"
        },
        "id": "NjJPFIUIls3l",
        "outputId": "df934547-0eea-4ff4-d5ab-f6855397f05a"
      },
      "source": [
        "!pip install --quiet allennlp\n",
        "!pip install --quiet allennlp-models"
      ],
      "execution_count": null,
      "outputs": [
        {
          "output_type": "stream",
          "text": [
            "\u001b[K     |████████████████████████████████| 634kB 21.7MB/s \n",
            "\u001b[K     |████████████████████████████████| 2.1MB 40.3MB/s \n",
            "\u001b[K     |████████████████████████████████| 266kB 39.6MB/s \n",
            "\u001b[K     |████████████████████████████████| 2.1MB 41.3MB/s \n",
            "\u001b[K     |████████████████████████████████| 133kB 47.8MB/s \n",
            "\u001b[K     |████████████████████████████████| 1.2MB 39.6MB/s \n",
            "\u001b[K     |████████████████████████████████| 122kB 53.9MB/s \n",
            "\u001b[K     |████████████████████████████████| 102kB 8.7MB/s \n",
            "\u001b[K     |████████████████████████████████| 163kB 55.2MB/s \n",
            "\u001b[K     |████████████████████████████████| 133kB 58.0MB/s \n",
            "\u001b[K     |████████████████████████████████| 3.3MB 38.4MB/s \n",
            "\u001b[K     |████████████████████████████████| 901kB 40.9MB/s \n",
            "\u001b[K     |████████████████████████████████| 7.5MB 33.5MB/s \n",
            "\u001b[K     |████████████████████████████████| 81kB 6.9MB/s \n",
            "\u001b[K     |████████████████████████████████| 71kB 7.4MB/s \n",
            "\u001b[?25h  Building wheel for jsonnet (setup.py) ... \u001b[?25l\u001b[?25hdone\n",
            "  Building wheel for overrides (setup.py) ... \u001b[?25l\u001b[?25hdone\n",
            "  Building wheel for subprocess32 (setup.py) ... \u001b[?25l\u001b[?25hdone\n",
            "  Building wheel for pathtools (setup.py) ... \u001b[?25l\u001b[?25hdone\n",
            "\u001b[31mERROR: botocore 1.20.62 has requirement urllib3<1.27,>=1.25.4, but you'll have urllib3 1.24.3 which is incompatible.\u001b[0m\n",
            "\u001b[K     |████████████████████████████████| 430kB 15.3MB/s \n",
            "\u001b[K     |████████████████████████████████| 61kB 5.6MB/s \n",
            "\u001b[K     |████████████████████████████████| 71kB 7.1MB/s \n",
            "\u001b[?25h  Building wheel for ftfy (setup.py) ... \u001b[?25l\u001b[?25hdone\n",
            "  Building wheel for word2number (setup.py) ... \u001b[?25l\u001b[?25hdone\n"
          ],
          "name": "stdout"
        }
      ]
    },
    {
      "cell_type": "code",
      "metadata": {
        "colab": {
          "base_uri": "https://localhost:8080/"
        },
        "id": "sEGwdF2Kl1Aq",
        "outputId": "54d6f082-4915-4c56-f0f2-352dd01b6088"
      },
      "source": [
        "from allennlp.predictors.predictor import Predictor\n",
        "predictor = Predictor.from_path(\"https://storage.googleapis.com/allennlp-public-models/bidaf-model-2020.03.19.tar.gz\")"
      ],
      "execution_count": null,
      "outputs": [
        {
          "output_type": "stream",
          "text": [
            "[nltk_data] Downloading package punkt to /root/nltk_data...\n",
            "[nltk_data]   Unzipping tokenizers/punkt.zip.\n",
            "[nltk_data] Downloading package wordnet to /root/nltk_data...\n",
            "[nltk_data]   Unzipping corpora/wordnet.zip.\n"
          ],
          "name": "stdout"
        },
        {
          "output_type": "stream",
          "text": [
            "Plugin allennlp_models could not be loaded: No module named 'nltk.translate.meteor_score'\n",
            "downloading: 100%|##########| 45959361/45959361 [00:01<00:00, 43790609.21B/s]\n"
          ],
          "name": "stderr"
        }
      ]
    },
    {
      "cell_type": "code",
      "metadata": {
        "id": "aawk7Ef0msdK"
      },
      "source": [
        "passage = \"\"\"In simple terms, a decision is the making of a choice between two or more alternatives. Every time a problem arises and we need to make a decision, we consciously or unconsciously follow four main steps, which can be framed as questions.The decision-making process involves four main steps: (1) establishing goals, (2) gathering information on alternatives, (3) determining the consequences of alternatives, and (4) choosing a course of action. Many (if not most) of the decisions that we make involve the use of economic resources: These are resources that are traded in the marketplace at a price because they are in limited or scarce supply. Accounting has been defined as the process of identifying, measuring, recording and communicating economic information to permit informed judgments and economic decisions by users of the information. Identification involves observing economic events and determining which of those events represent economic activities relevant to a particular business. (1) Selling goods to a customer, (2) paying wages to employees,  (3) providing services to a client, are examples of economic activities. Accountants traditionally have been viewed as the \\u2018bean counters\\u2019 or \\u2018number crunchers\\u2019 of an organization, but this is no longer their major task. Computerized accounting systems can now do much of the work. Even small businesses have access to computerized accounting systems such as Mind Your Own Business (MYOB), so the role of accountants has changed radically. One thing is certain: change will continue. In order to cope, accountants of the future need to have not only record-keeping knowledge but also analytical and communication skills and business strategy and planning know-how they need the ability to think clearly and critically in order to solve problems, a familiarity with information systems and technology, strong interpersonal communication skills with clients and business associates and sound ethical behavior in different cultural environments. Accounting is usually a core unit in business degrees as it is the \\u2018language of businesses. Economic decisions are made for consumption purposes, investment purposes and/or financial purposes. In addition, shareholders, creditors, government departments and not for profit organizations (such as clubs and societies) need financial information to help make investing, lending, regulatory and tax related decisions. Economic events of an entity are referred to by accountants as transactions. Transactions constitute the inputs of the accounting information system. Economic events of an entity are referred to by accountants as transactions, and are of two types, external and internal. External transactions (often called exchange transactions) are those that involve economic events between one entity and another entity. When an entity purchases goods from a supplier, borrows money from a bank, or sells goods and services to customers, it participates in external or exchange transactions. Internal transactions are those economic events that take place entirely within one entity. the depreciation of machinery used in the production of goods must be accounted for, and since it does not concern an outside party, it is an internal transaction. Money serves as both a medium of exchange and as a measure of value, allowing us to compare the value or worth of diverse objects and to add and subtract the economic effects of various transactions. Recording provides a history of the economic activities of a particular entity. Recording is the process of systematically maintaining a file of all transactions which have affected the business entity after they have been identified and measured. Classification allows thousands of transactions to be placed into more meaningful groups or categories. All transactions involving the sale of goods, for example, can be grouped into one total sales figure and all transactions involving cash received can be grouped to report a single cash receipt figure. Summarization of financial data is presented in reports and financial statements, which are provided for use by both management and external users of accounting information. These reports usually summarize the effects of all transactions occurring during some time period such as a month, a quarter or a year. Communication can be described as the process of preparing and distributing accounting reports to potential users of accounting information. Communication is the final part of the accounting process. Accounting has been defined as the process of identifying, measuring, recording and communicating economic information to permit informed judgments and economic decisions by users of the information. The recording or record keeping process involves measuring and recording business transactions and may take place in one of several forms: handwritten records, mechanical or electronic devices, or simply magnetic tapes or disks in a computerized system. Computers have had a significant impact on the recording phase of the accounting process. The processes of recording, classification and summarization can be done electronically, and hence the recording process is much more automated. Reports prepared for external users include financial statements which generally consist of an income statement (also called a statement of comprehensive income), a balance sheet (also called a statement of financial position), a statement of changes in equity and a statement of cash flows. Reports prepared for external users include financial statements which generally consist of an income statement (also called a statement of comprehensive income), a balance sheet (also called a statement of financial position), a statement of changes in equity and a statement of cash flows. Internal decision makers \\u2014 managers \\u2014 require special purpose financial statements to help in planning and controlling the operations of an entity. Internal decision makers \\u2014 managers \\u2014 require special purpose financial statements to help in planning and controlling the operations of an entity. Management accounting covers many activities, including cost behaviour and cost\\u2013volume\\u2013profit relationships, decision making through incremental analysis, capital budgeting, budgeting for financial planning and control, flexible budgeting for performance evaluation, the determination of manufacturing costs and costing systems, and accounting and reporting for business segment operations. Financial accounting is concerned with reporting information to users external to an entity in order to help them to make sound economic decisions about the entity\\u2019s performance and financial position. Financial Accounting Users of reports Users are outside the entity: shareholders, lenders, potential investors, creditors, customers, Government, interest groups. Financial Accounting \\u2013Types of reports General purpose financial statements for external users: balance sheet, income statement, statement of changes in equity, statement of cash flows. Accountants generally practice in three main areas: public accounting, commercial accounting and not for profit accounting. Because of the complexity of today\\u2019s business structure and increasing regulation by government, members of public accounting businesses tend to specialize in one of four general services: auditing and assurance services, taxation services, advisory services, and insolvency and administration. An audit is an independent examination of a business entity\\u2019s financial statements, supporting documents and records in order to form an opinion as to whether they comply with certain levels of quality, as specified in accounting standards, and present a true and fair view of the entity\\u2019s performance and financial position. assessment of risk \\u2014 evaluates whether an entity has appropriate systems in place to effectively manage business risk. business performance measurement \\u2014 evaluates whether an entity\\u2019s accounting system contains measures to assess the degree to which an entity is achieving its goals and objectives, and how the entity\\u2019s performance compares with its competitors. information systems reliability \\u2014 assesses whether the entity\\u2019s accounting system provides reliable information for making economic decisions. sustainability audits \\u2014 independent assessment of compliance with environmental requirements and the assessment of risks and preventative or corrective actions. For example, the assurance of carbon emissions and water reporting. Accountants provide advice concerning the tax consequences of business decisions. Individuals and business entities have to collect or pay various forms of taxes including income tax, capital gains tax, fringe benefits tax, goods and services tax, local government rates, and other taxes. Accountants are often engaged to help in tax planning to minimize the tax liability of the business, consistent with the rules and regulations established by taxing agencies. Accountants also are often called on to prepare tax returns, including business activity statements(BASs), required by law. To offer such services, accountants must be thoroughly familiar with tax laws and regulations. Some businesses have difficulty in paying their short term debts as they fall due, which means that they are becoming illiquid. If an entity cannot pay its long term debts, the entity is said to be insolvent. Public accountants are employed to help businesses administer their recovery from trading difficulties or insolvency, if possible. However, if recovery is not possible, accountants then assist in the winding up of the business\\u2019s affairs. In the case of the company form of business organization, such a wind up is referred to as liquidation. Cost accounting deals with the collection, allocation and control of the costs of producing specific products and services. Budgeting is the phase of accounting that deals with the preparation of a plan or forecast of future operations. Its main function is to provide management with a projection of the activities necessary to reach established goals. Budgets are generally prepared for the business entity as a whole as well as for subunits. They serve as control devices when used in conjunction with performance reports, which measure actual results for the period. Businesses are assessed for a variety of taxes \\u2014 including income tax, capital gains tax, GST and fringe benefits tax. To supplement the annual audit by the external auditor, many organizations also maintain an internal audit department. Its main function is to conduct ongoing reviews to make certain that established procedures and policies are being followed. Accounting for not for profit entities may require a different approach in some respects because of the absence of a profit motive. Government accounting is concerned with the efficient use of its resources, consistent with the provisions of city, shire, state and federal laws. Other not for profit organizations (churches, hospitals, charities, clubs, private educational institutions) also have specialized accounting needs. commercial accounting \\u2014 where accountants are employed by business entities, and are involved in general accounting, cost accounting, accounting information systems, budgeting, taxation, and internal auditing. The code of ethics establishes the fundamental principles of professional ethics and provides a conceptual framework for applying those principles. A single proprietorship or sole trader is a business entity owned by one person. Many small service enterprises, retail stores and professional practices are operated as single proprietorships.\"\"\"\n",
        "result=predictor.predict(\n",
        "  passage=passage,\n",
        "  question= \"who consist in internal decision makers\"\n",
        ")\n",
        "result['best_span_str']"
      ],
      "execution_count": null,
      "outputs": []
    },
    {
      "cell_type": "code",
      "metadata": {
        "colab": {
          "base_uri": "https://localhost:8080/"
        },
        "id": "ZVpjDXiGQArj",
        "outputId": "a173049a-7b35-4920-9155-01d6389588e2"
      },
      "source": [
        "passage = \"\"\"Economic events of an entity are referred to by accountants as transactions\"\"\"\n",
        "result=predictor.predict(\n",
        "  passage=passage,\n",
        "  question= \"What is a transaction?\"\n",
        ")\n",
        "result"
      ],
      "execution_count": null,
      "outputs": [
        {
          "output_type": "execute_result",
          "data": {
            "text/plain": [
              "{'best_span': [0, 9],\n",
              " 'best_span_str': 'Economic events of an entity are referred to by accountants',\n",
              " 'passage_question_attention': [[0.42291146516799927,\n",
              "   0.09966673702001572,\n",
              "   0.12118498980998993,\n",
              "   0.19827859103679657,\n",
              "   0.15795810520648956],\n",
              "  [0.4207445979118347,\n",
              "   0.05432124808430672,\n",
              "   0.09688276797533035,\n",
              "   0.14514341950416565,\n",
              "   0.28290802240371704],\n",
              "  [0.265423059463501,\n",
              "   0.26281440258026123,\n",
              "   0.09792058914899826,\n",
              "   0.16337990760803223,\n",
              "   0.21046209335327148],\n",
              "  [0.3217727243900299,\n",
              "   0.15046288073062897,\n",
              "   0.2596122622489929,\n",
              "   0.11012102663516998,\n",
              "   0.15803112089633942],\n",
              "  [0.3081793189048767,\n",
              "   0.19021296501159668,\n",
              "   0.11769407987594604,\n",
              "   0.1634065955877304,\n",
              "   0.22050710022449493],\n",
              "  [0.10425538569688797,\n",
              "   0.5422659516334534,\n",
              "   0.1621541976928711,\n",
              "   0.0623619481921196,\n",
              "   0.12896251678466797],\n",
              "  [0.19632859528064728,\n",
              "   0.22167369723320007,\n",
              "   0.18287856876850128,\n",
              "   0.15853510797023773,\n",
              "   0.2405841201543808],\n",
              "  [0.21412156522274017,\n",
              "   0.07733586430549622,\n",
              "   0.13300441205501556,\n",
              "   0.40116196870803833,\n",
              "   0.1743762493133545],\n",
              "  [0.3126649558544159,\n",
              "   0.09352777153253555,\n",
              "   0.10929316282272339,\n",
              "   0.23643207550048828,\n",
              "   0.2480819970369339],\n",
              "  [0.42238831520080566,\n",
              "   0.059474583715200424,\n",
              "   0.10053890198469162,\n",
              "   0.23562811315059662,\n",
              "   0.18197013437747955],\n",
              "  [0.16659213602542877,\n",
              "   0.2312757819890976,\n",
              "   0.2522909641265869,\n",
              "   0.14058829843997955,\n",
              "   0.20925280451774597],\n",
              "  [0.052455902099609375,\n",
              "   0.010038578882813454,\n",
              "   0.021768711507320404,\n",
              "   0.8271871209144592,\n",
              "   0.08854969590902328]],\n",
              " 'passage_tokens': ['Economic',\n",
              "  'events',\n",
              "  'of',\n",
              "  'an',\n",
              "  'entity',\n",
              "  'are',\n",
              "  'referred',\n",
              "  'to',\n",
              "  'by',\n",
              "  'accountants',\n",
              "  'as',\n",
              "  'transactions'],\n",
              " 'question_tokens': ['What', 'is', 'a', 'transaction', '?'],\n",
              " 'span_end_logits': [-0.8049135208129883,\n",
              "  1.6263766288757324,\n",
              "  -5.238305568695068,\n",
              "  -5.246677875518799,\n",
              "  0.5588946342468262,\n",
              "  -6.105397701263428,\n",
              "  -4.4823899269104,\n",
              "  -3.564155101776123,\n",
              "  -6.371484279632568,\n",
              "  3.9037232398986816,\n",
              "  -3.2370362281799316,\n",
              "  1.7776589393615723],\n",
              " 'span_end_probs': [0.007111083250492811,\n",
              "  0.08087823539972305,\n",
              "  8.443802653346211e-05,\n",
              "  8.373403397854418e-05,\n",
              "  0.027811864390969276,\n",
              "  3.547846063156612e-05,\n",
              "  0.00017981589189730585,\n",
              "  0.00045041454723104835,\n",
              "  2.718972427828703e-05,\n",
              "  0.7886253595352173,\n",
              "  0.0006247097626328468,\n",
              "  0.09408767521381378],\n",
              " 'span_start_logits': [0.8744540214538574,\n",
              "  -3.13932466506958,\n",
              "  -9.754661560058594,\n",
              "  -7.360340595245361,\n",
              "  -7.759145259857178,\n",
              "  -7.866500377655029,\n",
              "  -6.110872745513916,\n",
              "  -5.657754421234131,\n",
              "  -3.494380474090576,\n",
              "  0.7246596813201904,\n",
              "  -4.22965669631958,\n",
              "  -0.04259014129638672],\n",
              " 'span_start_probs': [0.4347079396247864,\n",
              "  0.007853000424802303,\n",
              "  1.0520372597966343e-05,\n",
              "  0.00011531126074260101,\n",
              "  7.73879000917077e-05,\n",
              "  6.951032264623791e-05,\n",
              "  0.0004022617358714342,\n",
              "  0.0006328423041850328,\n",
              "  0.005506008397787809,\n",
              "  0.37423354387283325,\n",
              "  0.0026394319720566273,\n",
              "  0.17375221848487854],\n",
              " 'token_offsets': [[0, 8],\n",
              "  [9, 15],\n",
              "  [16, 18],\n",
              "  [19, 21],\n",
              "  [22, 28],\n",
              "  [29, 32],\n",
              "  [33, 41],\n",
              "  [42, 44],\n",
              "  [45, 47],\n",
              "  [48, 59],\n",
              "  [60, 62],\n",
              "  [63, 75]]}"
            ]
          },
          "metadata": {
            "tags": []
          },
          "execution_count": 5
        }
      ]
    },
    {
      "cell_type": "code",
      "metadata": {
        "colab": {
          "base_uri": "https://localhost:8080/",
          "height": 35
        },
        "id": "P605Fpov2Bh7",
        "outputId": "42cd0f49-9096-4365-f77e-273649846a90"
      },
      "source": [
        "# 23.04.2021\n",
        "# don't run this cell\n",
        "import allennlp\n",
        "allennlp.__version__"
      ],
      "execution_count": null,
      "outputs": [
        {
          "output_type": "execute_result",
          "data": {
            "application/vnd.google.colaboratory.intrinsic+json": {
              "type": "string"
            },
            "text/plain": [
              "'2.3.1'"
            ]
          },
          "metadata": {
            "tags": []
          },
          "execution_count": 5
        }
      ]
    },
    {
      "cell_type": "code",
      "metadata": {
        "colab": {
          "base_uri": "https://localhost:8080/",
          "height": 35
        },
        "id": "AP1KjGFoZlmj",
        "outputId": "aaf6fc78-70f7-4e9a-91f0-3de817629637"
      },
      "source": [
        "# 25.04.2021\n",
        "# don't run this cell\n",
        "import allennlp\n",
        "allennlp.__version__"
      ],
      "execution_count": null,
      "outputs": [
        {
          "output_type": "execute_result",
          "data": {
            "application/vnd.google.colaboratory.intrinsic+json": {
              "type": "string"
            },
            "text/plain": [
              "'2.4.0'"
            ]
          },
          "metadata": {
            "tags": []
          },
          "execution_count": 32
        }
      ]
    }
  ]
}